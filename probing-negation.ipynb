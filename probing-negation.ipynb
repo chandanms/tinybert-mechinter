{
 "cells": [
  {
   "cell_type": "code",
   "execution_count": 1,
   "id": "394b4139-a456-4f92-b4be-d8ccd71c6c58",
   "metadata": {},
   "outputs": [],
   "source": [
    "%load_ext autoreload\n",
    "%autoreload 2"
   ]
  },
  {
   "cell_type": "code",
   "execution_count": 2,
   "id": "4d633ac1-b2ca-485e-bed6-37ecd87fc021",
   "metadata": {},
   "outputs": [
    {
     "name": "stderr",
     "output_type": "stream",
     "text": [
      "/home/chandan/environments/research/lib/python3.12/site-packages/tqdm/auto.py:21: TqdmWarning: IProgress not found. Please update jupyter and ipywidgets. See https://ipywidgets.readthedocs.io/en/stable/user_install.html\n",
      "  from .autonotebook import tqdm as notebook_tqdm\n"
     ]
    }
   ],
   "source": [
    "from probes import NegationProbe\n",
    "from model import TinyBertModel"
   ]
  },
  {
   "cell_type": "code",
   "execution_count": 3,
   "id": "9cd96ddc-2449-4926-985c-726c7d7e2885",
   "metadata": {},
   "outputs": [],
   "source": [
    "model = TinyBertModel()\n",
    "probe = NegationProbe(model)"
   ]
  },
  {
   "cell_type": "code",
   "execution_count": 4,
   "id": "af72fb17-e1e8-4830-b214-87ff5fece70c",
   "metadata": {},
   "outputs": [],
   "source": [
    "test_pairs = [\n",
    "        (\"The movie was good.\", \"The movie was not good.\"),\n",
    "        (\"I like this book.\", \"I don't like this book.\"),\n",
    "        (\"She will come.\", \"She will never come.\"),\n",
    "        (\"This is something.\", \"This is nothing.\"),\n",
    "        (\"Both A and B are true.\", \"Neither A nor B are true.\")\n",
    "    ]"
   ]
  },
  {
   "cell_type": "code",
   "execution_count": 5,
   "id": "7afe9078-af00-414d-99c8-5cd9d7baf6ea",
   "metadata": {},
   "outputs": [
    {
     "name": "stderr",
     "output_type": "stream",
     "text": [
      "BertSdpaSelfAttention is used but `torch.nn.functional.scaled_dot_product_attention` does not support non-absolute `position_embedding_type` or `output_attentions=True` or `head_mask`. Falling back to the manual attention implementation, but specifying the manual implementation will be required from Transformers version v5.0.0 onwards. This warning can be removed using the argument `attn_implementation=\"eager\"` when loading the model.\n"
     ]
    },
    {
     "name": "stdout",
     "output_type": "stream",
     "text": [
      "torch.Size([1, 2, 7, 7]) torch.Size([1, 2, 7, 64]) torch.Size([1, 2, 7, 64])\n",
      "torch.Size([1, 2, 7, 7]) torch.Size([1, 2, 7, 64]) torch.Size([1, 2, 7, 64])\n",
      "torch.Size([1, 2, 8, 8]) torch.Size([1, 2, 8, 64]) torch.Size([1, 2, 8, 64])\n",
      "torch.Size([1, 2, 8, 8]) torch.Size([1, 2, 8, 64]) torch.Size([1, 2, 8, 64])\n",
      "torch.Size([1, 2, 7, 7]) torch.Size([1, 2, 7, 64]) torch.Size([1, 2, 7, 64])\n",
      "torch.Size([1, 2, 7, 7]) torch.Size([1, 2, 7, 64]) torch.Size([1, 2, 7, 64])\n",
      "torch.Size([1, 2, 10, 10]) torch.Size([1, 2, 10, 64]) torch.Size([1, 2, 10, 64])\n",
      "torch.Size([1, 2, 10, 10]) torch.Size([1, 2, 10, 64]) torch.Size([1, 2, 10, 64])\n",
      "torch.Size([1, 2, 6, 6]) torch.Size([1, 2, 6, 64]) torch.Size([1, 2, 6, 64])\n",
      "torch.Size([1, 2, 6, 6]) torch.Size([1, 2, 6, 64]) torch.Size([1, 2, 6, 64])\n",
      "torch.Size([1, 2, 7, 7]) torch.Size([1, 2, 7, 64]) torch.Size([1, 2, 7, 64])\n",
      "torch.Size([1, 2, 7, 7]) torch.Size([1, 2, 7, 64]) torch.Size([1, 2, 7, 64])\n",
      "torch.Size([1, 2, 6, 6]) torch.Size([1, 2, 6, 64]) torch.Size([1, 2, 6, 64])\n",
      "torch.Size([1, 2, 6, 6]) torch.Size([1, 2, 6, 64]) torch.Size([1, 2, 6, 64])\n",
      "torch.Size([1, 2, 6, 6]) torch.Size([1, 2, 6, 64]) torch.Size([1, 2, 6, 64])\n",
      "torch.Size([1, 2, 6, 6]) torch.Size([1, 2, 6, 64]) torch.Size([1, 2, 6, 64])\n",
      "torch.Size([1, 2, 9, 9]) torch.Size([1, 2, 9, 64]) torch.Size([1, 2, 9, 64])\n",
      "torch.Size([1, 2, 9, 9]) torch.Size([1, 2, 9, 64]) torch.Size([1, 2, 9, 64])\n",
      "torch.Size([1, 2, 9, 9]) torch.Size([1, 2, 9, 64]) torch.Size([1, 2, 9, 64])\n",
      "torch.Size([1, 2, 9, 9]) torch.Size([1, 2, 9, 64]) torch.Size([1, 2, 9, 64])\n",
      "torch.Size([1, 2, 7, 7]) torch.Size([1, 2, 7, 64]) torch.Size([1, 2, 7, 64])\n",
      "torch.Size([1, 2, 7, 7]) torch.Size([1, 2, 7, 64]) torch.Size([1, 2, 7, 64])\n",
      "torch.Size([1, 2, 8, 8]) torch.Size([1, 2, 8, 64]) torch.Size([1, 2, 8, 64])\n",
      "torch.Size([1, 2, 8, 8]) torch.Size([1, 2, 8, 64]) torch.Size([1, 2, 8, 64])\n",
      "torch.Size([1, 2, 7, 7]) torch.Size([1, 2, 7, 64]) torch.Size([1, 2, 7, 64])\n",
      "torch.Size([1, 2, 7, 7]) torch.Size([1, 2, 7, 64]) torch.Size([1, 2, 7, 64])\n",
      "torch.Size([1, 2, 10, 10]) torch.Size([1, 2, 10, 64]) torch.Size([1, 2, 10, 64])\n",
      "torch.Size([1, 2, 10, 10]) torch.Size([1, 2, 10, 64]) torch.Size([1, 2, 10, 64])\n",
      "torch.Size([1, 2, 6, 6]) torch.Size([1, 2, 6, 64]) torch.Size([1, 2, 6, 64])\n",
      "torch.Size([1, 2, 6, 6]) torch.Size([1, 2, 6, 64]) torch.Size([1, 2, 6, 64])\n",
      "torch.Size([1, 2, 7, 7]) torch.Size([1, 2, 7, 64]) torch.Size([1, 2, 7, 64])\n",
      "torch.Size([1, 2, 7, 7]) torch.Size([1, 2, 7, 64]) torch.Size([1, 2, 7, 64])\n",
      "torch.Size([1, 2, 6, 6]) torch.Size([1, 2, 6, 64]) torch.Size([1, 2, 6, 64])\n",
      "torch.Size([1, 2, 6, 6]) torch.Size([1, 2, 6, 64]) torch.Size([1, 2, 6, 64])\n",
      "torch.Size([1, 2, 6, 6]) torch.Size([1, 2, 6, 64]) torch.Size([1, 2, 6, 64])\n",
      "torch.Size([1, 2, 6, 6]) torch.Size([1, 2, 6, 64]) torch.Size([1, 2, 6, 64])\n",
      "torch.Size([1, 2, 9, 9]) torch.Size([1, 2, 9, 64]) torch.Size([1, 2, 9, 64])\n",
      "torch.Size([1, 2, 9, 9]) torch.Size([1, 2, 9, 64]) torch.Size([1, 2, 9, 64])\n",
      "torch.Size([1, 2, 9, 9]) torch.Size([1, 2, 9, 64]) torch.Size([1, 2, 9, 64])\n",
      "torch.Size([1, 2, 9, 9]) torch.Size([1, 2, 9, 64]) torch.Size([1, 2, 9, 64])\n",
      "torch.Size([1, 2, 7, 7]) torch.Size([1, 2, 7, 64]) torch.Size([1, 2, 7, 64])\n",
      "torch.Size([1, 2, 7, 7]) torch.Size([1, 2, 7, 64]) torch.Size([1, 2, 7, 64])\n",
      "torch.Size([1, 2, 8, 8]) torch.Size([1, 2, 8, 64]) torch.Size([1, 2, 8, 64])\n",
      "torch.Size([1, 2, 8, 8]) torch.Size([1, 2, 8, 64]) torch.Size([1, 2, 8, 64])\n",
      "torch.Size([1, 2, 7, 7]) torch.Size([1, 2, 7, 64]) torch.Size([1, 2, 7, 64])\n",
      "torch.Size([1, 2, 7, 7]) torch.Size([1, 2, 7, 64]) torch.Size([1, 2, 7, 64])\n",
      "torch.Size([1, 2, 10, 10]) torch.Size([1, 2, 10, 64]) torch.Size([1, 2, 10, 64])\n",
      "torch.Size([1, 2, 10, 10]) torch.Size([1, 2, 10, 64]) torch.Size([1, 2, 10, 64])\n",
      "torch.Size([1, 2, 6, 6]) torch.Size([1, 2, 6, 64]) torch.Size([1, 2, 6, 64])\n",
      "torch.Size([1, 2, 6, 6]) torch.Size([1, 2, 6, 64]) torch.Size([1, 2, 6, 64])\n",
      "torch.Size([1, 2, 7, 7]) torch.Size([1, 2, 7, 64]) torch.Size([1, 2, 7, 64])\n",
      "torch.Size([1, 2, 7, 7]) torch.Size([1, 2, 7, 64]) torch.Size([1, 2, 7, 64])\n",
      "torch.Size([1, 2, 6, 6]) torch.Size([1, 2, 6, 64]) torch.Size([1, 2, 6, 64])\n",
      "torch.Size([1, 2, 6, 6]) torch.Size([1, 2, 6, 64]) torch.Size([1, 2, 6, 64])\n",
      "torch.Size([1, 2, 6, 6]) torch.Size([1, 2, 6, 64]) torch.Size([1, 2, 6, 64])\n",
      "torch.Size([1, 2, 6, 6]) torch.Size([1, 2, 6, 64]) torch.Size([1, 2, 6, 64])\n",
      "torch.Size([1, 2, 9, 9]) torch.Size([1, 2, 9, 64]) torch.Size([1, 2, 9, 64])\n",
      "torch.Size([1, 2, 9, 9]) torch.Size([1, 2, 9, 64]) torch.Size([1, 2, 9, 64])\n",
      "torch.Size([1, 2, 9, 9]) torch.Size([1, 2, 9, 64]) torch.Size([1, 2, 9, 64])\n",
      "torch.Size([1, 2, 9, 9]) torch.Size([1, 2, 9, 64]) torch.Size([1, 2, 9, 64])\n",
      "torch.Size([1, 2, 7, 7]) torch.Size([1, 2, 7, 64]) torch.Size([1, 2, 7, 64])\n",
      "torch.Size([1, 2, 7, 7]) torch.Size([1, 2, 7, 64]) torch.Size([1, 2, 7, 64])\n",
      "torch.Size([1, 2, 8, 8]) torch.Size([1, 2, 8, 64]) torch.Size([1, 2, 8, 64])\n",
      "torch.Size([1, 2, 8, 8]) torch.Size([1, 2, 8, 64]) torch.Size([1, 2, 8, 64])\n",
      "torch.Size([1, 2, 7, 7]) torch.Size([1, 2, 7, 64]) torch.Size([1, 2, 7, 64])\n",
      "torch.Size([1, 2, 7, 7]) torch.Size([1, 2, 7, 64]) torch.Size([1, 2, 7, 64])\n",
      "torch.Size([1, 2, 10, 10]) torch.Size([1, 2, 10, 64]) torch.Size([1, 2, 10, 64])\n",
      "torch.Size([1, 2, 10, 10]) torch.Size([1, 2, 10, 64]) torch.Size([1, 2, 10, 64])\n",
      "torch.Size([1, 2, 6, 6]) torch.Size([1, 2, 6, 64]) torch.Size([1, 2, 6, 64])\n",
      "torch.Size([1, 2, 6, 6]) torch.Size([1, 2, 6, 64]) torch.Size([1, 2, 6, 64])\n",
      "torch.Size([1, 2, 7, 7]) torch.Size([1, 2, 7, 64]) torch.Size([1, 2, 7, 64])\n",
      "torch.Size([1, 2, 7, 7]) torch.Size([1, 2, 7, 64]) torch.Size([1, 2, 7, 64])\n",
      "torch.Size([1, 2, 6, 6]) torch.Size([1, 2, 6, 64]) torch.Size([1, 2, 6, 64])\n",
      "torch.Size([1, 2, 6, 6]) torch.Size([1, 2, 6, 64]) torch.Size([1, 2, 6, 64])\n",
      "torch.Size([1, 2, 6, 6]) torch.Size([1, 2, 6, 64]) torch.Size([1, 2, 6, 64])\n",
      "torch.Size([1, 2, 6, 6]) torch.Size([1, 2, 6, 64]) torch.Size([1, 2, 6, 64])\n",
      "torch.Size([1, 2, 9, 9]) torch.Size([1, 2, 9, 64]) torch.Size([1, 2, 9, 64])\n",
      "torch.Size([1, 2, 9, 9]) torch.Size([1, 2, 9, 64]) torch.Size([1, 2, 9, 64])\n",
      "torch.Size([1, 2, 9, 9]) torch.Size([1, 2, 9, 64]) torch.Size([1, 2, 9, 64])\n",
      "torch.Size([1, 2, 9, 9]) torch.Size([1, 2, 9, 64]) torch.Size([1, 2, 9, 64])\n"
     ]
    }
   ],
   "source": [
    "results = probe.analyze_negation_pairs(test_pairs)"
   ]
  },
  {
   "cell_type": "code",
   "execution_count": null,
   "id": "3dfa416b-5af1-4f3c-8188-e5bb3e148e12",
   "metadata": {},
   "outputs": [],
   "source": []
  }
 ],
 "metadata": {
  "kernelspec": {
   "display_name": "Python 3 (ipykernel)",
   "language": "python",
   "name": "python3"
  },
  "language_info": {
   "codemirror_mode": {
    "name": "ipython",
    "version": 3
   },
   "file_extension": ".py",
   "mimetype": "text/x-python",
   "name": "python",
   "nbconvert_exporter": "python",
   "pygments_lexer": "ipython3",
   "version": "3.12.3"
  }
 },
 "nbformat": 4,
 "nbformat_minor": 5
}
